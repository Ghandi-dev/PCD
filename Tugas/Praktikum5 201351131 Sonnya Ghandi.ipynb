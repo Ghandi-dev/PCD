{
  "cells": [
    {
      "cell_type": "code",
      "execution_count": 3,
      "metadata": {
        "id": "GtqRNJ_uI4ht"
      },
      "outputs": [],
      "source": [
        "import cv2\n",
        "# from google.colab.patches import cv2_imshow\n",
        "import numpy as np\n",
        "\n",
        "# buka citra\n",
        "img = cv2.imread('Lenna.png')"
      ]
    },
    {
      "cell_type": "code",
      "execution_count": 4,
      "metadata": {
        "id": "sZqOwKLbJHLp"
      },
      "outputs": [],
      "source": [
        "row, col, ch = img.shape\n",
        "\n",
        "kanvas_hsv = np.zeros((row, col, 3), np.uint8)"
      ]
    },
    {
      "cell_type": "code",
      "execution_count": 11,
      "metadata": {},
      "outputs": [
        {
          "name": "stdout",
          "output_type": "stream",
          "text": [
            "[[[255   0   0]\n",
            "  [  0   0   0]\n",
            "  [  0   0   0]\n",
            "  ...\n",
            "  [  0   0   0]\n",
            "  [  0   0   0]\n",
            "  [  0   0   0]]\n",
            "\n",
            " [[  0   0   0]\n",
            "  [  0   0   0]\n",
            "  [  0   0   0]\n",
            "  ...\n",
            "  [  0   0   0]\n",
            "  [  0   0   0]\n",
            "  [  0   0   0]]\n",
            "\n",
            " [[  0   0   0]\n",
            "  [  0   0   0]\n",
            "  [  0   0   0]\n",
            "  ...\n",
            "  [  0   0   0]\n",
            "  [  0   0   0]\n",
            "  [  0   0   0]]\n",
            "\n",
            " ...\n",
            "\n",
            " [[  0   0   0]\n",
            "  [  0   0   0]\n",
            "  [  0   0   0]\n",
            "  ...\n",
            "  [  0   0   0]\n",
            "  [  0   0   0]\n",
            "  [  0   0   0]]\n",
            "\n",
            " [[  0   0   0]\n",
            "  [  0   0   0]\n",
            "  [  0   0   0]\n",
            "  ...\n",
            "  [  0   0   0]\n",
            "  [  0   0   0]\n",
            "  [  0   0   0]]\n",
            "\n",
            " [[  0   0   0]\n",
            "  [  0   0   0]\n",
            "  [  0   0   0]\n",
            "  ...\n",
            "  [  0   0   0]\n",
            "  [  0   0   0]\n",
            "  [  0   0   0]]]\n"
          ]
        }
      ],
      "source": [
        "kanvas_hsv[0][0][0]=255\n",
        "print(kanvas_hsv)"
      ]
    },
    {
      "cell_type": "code",
      "execution_count": 4,
      "metadata": {
        "id": "OedQiiXCJQPg"
      },
      "outputs": [],
      "source": [
        "# ubah citra tersebut menjadi HSV Color space.\n",
        "for i in range (0, row):\n",
        "  for j in range (0, col):\n",
        "    b = img[i,j,0]/255\n",
        "    g = img[i,j,1]/255\n",
        "    r = img[i,j,2]/255\n",
        "\n",
        "    vmax = max(r, g, b)\n",
        "    vmin = min(r, g, b)\n",
        "    # v\n",
        "    v = vmax\n",
        "    valv_min = v - vmin\n",
        "    # s\n",
        "    s = valv_min/v if v != 0 else 0\n",
        "    # h\n",
        "    if v == r :\n",
        "      h = (60*(g-b))/valv_min\n",
        "    elif v == g :\n",
        "      h = ((120+60)*(b-r))/valv_min\n",
        "    elif v == b :\n",
        "      h = ((240+60)*(b-r))/valv_min\n",
        "    elif r == g and g == b :\n",
        "      h = 0\n",
        "    h = h + 360 if h < 0 else h\n",
        "\n",
        "\n",
        "    kanvas_hsv[i,j,0] = h/2\n",
        "    kanvas_hsv[i,j,1] = s*255\n",
        "    kanvas_hsv[i,j,2] = v*255\n",
        "\n",
        "\n"
      ]
    },
    {
      "cell_type": "code",
      "execution_count": 5,
      "metadata": {
        "colab": {
          "base_uri": "https://localhost:8080/",
          "height": 457
        },
        "id": "UoI9TYwQ2-sv",
        "outputId": "b69dee82-d860-479b-cf44-9e27796f46d2"
      },
      "outputs": [],
      "source": [
        "cv2.imshow(\"gess\",kanvas_hsv)"
      ]
    },
    {
      "cell_type": "code",
      "execution_count": 6,
      "metadata": {
        "id": "Nstc2E-RgDWl"
      },
      "outputs": [],
      "source": [
        "# split citra menggunakan fungsi cv.split\n",
        "h,s,v = cv2.split(kanvas_hsv)"
      ]
    },
    {
      "cell_type": "code",
      "execution_count": 7,
      "metadata": {
        "id": "MkCDsbTyctrQ"
      },
      "outputs": [],
      "source": [
        "# jumlahkan setiap channel hsv menggunakan looping\n",
        "total_h = 0\n",
        "total_s = 0\n",
        "total_v = 0\n",
        "for i in range (0, row):\n",
        "  for j in range (0, col):\n",
        "    # h\n",
        "    total_h += h[i][j]\n",
        "    # s\n",
        "    total_s += s[i][j]\n",
        "    # v\n",
        "    total_v += v[i][j]\n",
        "\n",
        "\n",
        "n = col * row\n",
        "# rata-rata channel h\n",
        "rata_h = total_h / n\n",
        "# rata-rata channel s\n",
        "rata_s = total_s / n\n",
        "# rata-rata channel v\n",
        "rata_v = total_v / n"
      ]
    },
    {
      "cell_type": "code",
      "execution_count": 8,
      "metadata": {
        "colab": {
          "base_uri": "https://localhost:8080/",
          "height": 1000
        },
        "id": "GkPU4TpAfk20",
        "outputId": "e7ae2f98-3dd2-415a-bc55-a0976dad4796"
      },
      "outputs": [
        {
          "ename": "error",
          "evalue": "OpenCV(4.8.1) D:\\a\\opencv-python\\opencv-python\\opencv\\modules\\imgcodecs\\src\\loadsave.cpp:696: error: (-2:Unspecified error) could not find a writer for the specified extension in function 'cv::imwrite_'\n",
          "output_type": "error",
          "traceback": [
            "\u001b[1;31m---------------------------------------------------------------------------\u001b[0m",
            "\u001b[1;31merror\u001b[0m                                     Traceback (most recent call last)",
            "\u001b[1;32mc:\\Users\\Ghandi\\Desktop\\PCD\\PCD\\Tugas\\Praktikum5 201351131 Sonnya Ghandi.ipynb Cell 7\u001b[0m line \u001b[0;36m2\n\u001b[0;32m     <a href='vscode-notebook-cell:/c%3A/Users/Ghandi/Desktop/PCD/PCD/Tugas/Praktikum5%20201351131%20Sonnya%20Ghandi.ipynb#W6sZmlsZQ%3D%3D?line=18'>19</a>\u001b[0m     \u001b[39melse\u001b[39;00m:\n\u001b[0;32m     <a href='vscode-notebook-cell:/c%3A/Users/Ghandi/Desktop/PCD/PCD/Tugas/Praktikum5%20201351131%20Sonnya%20Ghandi.ipynb#W6sZmlsZQ%3D%3D?line=19'>20</a>\u001b[0m       kanvas_hsv[i,j,\u001b[39m2\u001b[39m] \u001b[39m=\u001b[39m \u001b[39m255\u001b[39m\n\u001b[1;32m---> <a href='vscode-notebook-cell:/c%3A/Users/Ghandi/Desktop/PCD/PCD/Tugas/Praktikum5%20201351131%20Sonnya%20Ghandi.ipynb#W6sZmlsZQ%3D%3D?line=21'>22</a>\u001b[0m cv2\u001b[39m.\u001b[39;49mimwrite(\u001b[39m\"\u001b[39;49m\u001b[39mgambar-hue\u001b[39;49m\u001b[39m\"\u001b[39;49m,kanvas_hsv[:,:,\u001b[39m0\u001b[39;49m])\n\u001b[0;32m     <a href='vscode-notebook-cell:/c%3A/Users/Ghandi/Desktop/PCD/PCD/Tugas/Praktikum5%20201351131%20Sonnya%20Ghandi.ipynb#W6sZmlsZQ%3D%3D?line=22'>23</a>\u001b[0m cv2\u001b[39m.\u001b[39mimwrite(\u001b[39m\"\u001b[39m\u001b[39mgambar-saturation\u001b[39m\u001b[39m\"\u001b[39m,kanvas_hsv[:,:,\u001b[39m1\u001b[39m])\n\u001b[0;32m     <a href='vscode-notebook-cell:/c%3A/Users/Ghandi/Desktop/PCD/PCD/Tugas/Praktikum5%20201351131%20Sonnya%20Ghandi.ipynb#W6sZmlsZQ%3D%3D?line=23'>24</a>\u001b[0m cv2\u001b[39m.\u001b[39mimwrite(\u001b[39m\"\u001b[39m\u001b[39mgambar-value\u001b[39m\u001b[39m\"\u001b[39m,kanvas_hsv[:,:,\u001b[39m2\u001b[39m])\n",
            "\u001b[1;31merror\u001b[0m: OpenCV(4.8.1) D:\\a\\opencv-python\\opencv-python\\opencv\\modules\\imgcodecs\\src\\loadsave.cpp:696: error: (-2:Unspecified error) could not find a writer for the specified extension in function 'cv::imwrite_'\n"
          ]
        },
        {
          "ename": "",
          "evalue": "",
          "output_type": "error",
          "traceback": [
            "\u001b[1;31mThe Kernel crashed while executing code in the the current cell or a previous cell. Please review the code in the cell(s) to identify a possible cause of the failure. Click <a href='https://aka.ms/vscodeJupyterKernelCrash'>here</a> for more info. View Jupyter <a href='command:jupyter.viewOutput'>log</a> for further details."
          ]
        }
      ],
      "source": [
        "# lakukan thresholding manual menggunakan looping\n",
        "for i in range (0, row):\n",
        "  for j in range (0, col):\n",
        "    # h\n",
        "    if (kanvas_hsv[i,j,0] < rata_h):\n",
        "      kanvas_hsv[i,j,0] = 0\n",
        "    else:\n",
        "      kanvas_hsv[i,j,0] = 255\n",
        "\n",
        "    # s\n",
        "    if (kanvas_hsv[i,j,1] < rata_s):\n",
        "      kanvas_hsv[i,j,1] = 0\n",
        "    else:\n",
        "      kanvas_hsv[i,j,1] = 255\n",
        "\n",
        "    # v\n",
        "    if (kanvas_hsv[i,j,2] < rata_v):\n",
        "      kanvas_hsv[i,j,2] = 0\n",
        "    else:\n",
        "      kanvas_hsv[i,j,2] = 255\n",
        "\n",
        "cv2.imwrite(\"gambar-hue\",kanvas_hsv[:,:,0])\n",
        "cv2.imwrite(\"gambar-saturation\",kanvas_hsv[:,:,1])\n",
        "cv2.imwrite(\"gambar-value\",kanvas_hsv[:,:,2])\n",
        "# cv2.imshow(kanvas_hsv[:,:,0])\n",
        "# cv2.imshow(kanvas_hsv[:,:,1])\n",
        "# cv2.imshow(kanvas_hsv[:,:,2])"
      ]
    }
  ],
  "metadata": {
    "colab": {
      "provenance": []
    },
    "kernelspec": {
      "display_name": "Python 3",
      "name": "python3"
    },
    "language_info": {
      "codemirror_mode": {
        "name": "ipython",
        "version": 3
      },
      "file_extension": ".py",
      "mimetype": "text/x-python",
      "name": "python",
      "nbconvert_exporter": "python",
      "pygments_lexer": "ipython3",
      "version": "3.10.6"
    }
  },
  "nbformat": 4,
  "nbformat_minor": 0
}
