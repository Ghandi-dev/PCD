{
  "cells": [
    {
      "cell_type": "code",
      "execution_count": 1,
      "metadata": {
        "id": "GtqRNJ_uI4ht"
      },
      "outputs": [],
      "source": [
        "import cv2\n",
        "# from google.colab.patches import cv2_imshow\n",
        "import numpy as np\n",
        "\n",
        "# buka citra\n",
        "img = cv2.imread('Lenna.png')"
      ]
    },
    {
      "cell_type": "code",
      "execution_count": 2,
      "metadata": {
        "id": "sZqOwKLbJHLp"
      },
      "outputs": [],
      "source": [
        "row, col, ch = img.shape\n",
        "\n",
        "kanvas_hsv = np.zeros((row, col, 3), np.uint8)"
      ]
    },
    {
      "cell_type": "code",
      "execution_count": 3,
      "metadata": {
        "id": "OedQiiXCJQPg"
      },
      "outputs": [],
      "source": [
        "# ubah citra tersebut menjadi HSV Color space.\n",
        "for i in range(0, row):\n",
        "  for j in range(0, col):\n",
        "    b = img[i, j, 0]/255\n",
        "    g = img[i, j, 1]/255\n",
        "    r = img[i, j, 2]/255\n",
        "\n",
        "    vmax = max(r, g, b)\n",
        "    vmin = min(r, g, b)\n",
        "    # v\n",
        "    v = vmax\n",
        "    valv_min = v - vmin\n",
        "    # s\n",
        "    s = valv_min/v if v != 0 else 0\n",
        "    # h\n",
        "    if v == r:\n",
        "      h = (60*(g-b))/valv_min\n",
        "    elif v == g:\n",
        "      h = ((120+60)*(b-r))/valv_min\n",
        "    elif v == b:\n",
        "      h = ((240+60)*(b-r))/valv_min\n",
        "    elif r == g and g == b:\n",
        "      h = 0\n",
        "    h = h + 360 if h < 0 else h\n",
        "\n",
        "    kanvas_hsv[i, j, 0] = h/2\n",
        "    kanvas_hsv[i, j, 1] = s*255\n",
        "    kanvas_hsv[i, j, 2] = v*255\n"
      ]
    },
    {
      "cell_type": "code",
      "execution_count": 5,
      "metadata": {
        "id": "UoI9TYwQ2-sv"
      },
      "outputs": [],
      "source": [
        "cv2.imshow(\"img\",kanvas_hsv)"
      ]
    },
    {
      "cell_type": "code",
      "execution_count": null,
      "metadata": {
        "id": "Nstc2E-RgDWl"
      },
      "outputs": [],
      "source": [
        "# split citra menggunakan fungsi cv.split\n",
        "h,s,v = cv2.split(kanvas_hsv)"
      ]
    },
    {
      "cell_type": "code",
      "execution_count": null,
      "metadata": {
        "id": "MkCDsbTyctrQ"
      },
      "outputs": [],
      "source": [
        "# jumlahkan setiap channel hsv menggunakan looping\n",
        "total_h = 0\n",
        "total_s = 0\n",
        "total_v = 0\n",
        "for i in range(0, row):\n",
        "  for j in range(0, col):\n",
        "    # h\n",
        "    total_h += h[i][j]\n",
        "    # s\n",
        "    total_s += s[i][j]\n",
        "    # v\n",
        "    total_v += v[i][j]\n",
        "\n",
        "\n",
        "n = col * row\n",
        "# rata-rata channel h\n",
        "rata_h = total_h / n\n",
        "# rata-rata channel s\n",
        "rata_s = total_s / n\n",
        "# rata-rata channel v\n",
        "rata_v = total_v / n\n"
      ]
    },
    {
      "cell_type": "code",
      "execution_count": null,
      "metadata": {
        "id": "GkPU4TpAfk20"
      },
      "outputs": [],
      "source": [
        "# lakukan thresholding manual menggunakan looping\n",
        "for i in range (0, row):\n",
        "  for j in range (0, col):\n",
        "    # h\n",
        "\n",
        "    # s\n",
        "\n",
        "    # v"
      ]
    }
  ],
  "metadata": {
    "colab": {
      "provenance": []
    },
    "kernelspec": {
      "display_name": "Python 3",
      "name": "python3"
    },
    "language_info": {
      "codemirror_mode": {
        "name": "ipython",
        "version": 3
      },
      "file_extension": ".py",
      "mimetype": "text/x-python",
      "name": "python",
      "nbconvert_exporter": "python",
      "pygments_lexer": "ipython3",
      "version": "3.10.12"
    }
  },
  "nbformat": 4,
  "nbformat_minor": 0
}
